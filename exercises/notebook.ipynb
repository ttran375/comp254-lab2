{
 "cells": [
  {
   "cell_type": "markdown",
   "metadata": {},
   "source": [
    "# Week 10 Lab Exercises"
   ]
  },
  {
   "cell_type": "markdown",
   "metadata": {},
   "source": [
    "## Exercise 1: Comparator Interface\n",
    "\n",
    "Create a class that describes Employee objects. Declare the following instance variables:\n",
    "\n",
    "- `private String fullName;`\n",
    "- `private String socialInsuranceNumber;`\n",
    "- `private Date hireDate;`\n",
    "\n",
    "Provide comparison functionalities by implementing the *Comparator* interface. Use the employee’s *hire date* to compare employees. Test your implementation."
   ]
  },
  {
   "cell_type": "code",
   "execution_count": 4,
   "metadata": {},
   "outputs": [
    {
     "name": "stdout",
     "output_type": "stream",
     "text": [
      "Before sorting:\n",
      "Employee(John Doe, 123-45-6789, 2020-05-24)\n",
      "Employee(Jane Smith, 987-65-4321, 2019-03-15)\n",
      "Employee(Alice Brown, 567-89-0123, 2021-07-30)\n",
      "\n",
      "After sorting by hire date:\n",
      "Employee(Jane Smith, 987-65-4321, 2019-03-15)\n",
      "Employee(John Doe, 123-45-6789, 2020-05-24)\n",
      "Employee(Alice Brown, 567-89-0123, 2021-07-30)\n"
     ]
    }
   ],
   "source": [
    "from datetime import date\n",
    "\n",
    "\n",
    "class Employee:\n",
    "    def __init__(self, full_name, social_insurance_number, hire_date):\n",
    "        self.full_name = full_name\n",
    "        self.social_insurance_number = social_insurance_number\n",
    "        self.hire_date = hire_date  # hire_date should be a date object\n",
    "\n",
    "    def __repr__(self):\n",
    "        return f\"Employee({self.full_name}, {self.social_insurance_number}, {self.hire_date})\"\n",
    "\n",
    "    def __lt__(self, other):\n",
    "        return self.hire_date < other.hire_date\n",
    "\n",
    "    def __le__(self, other):\n",
    "        return self.hire_date <= other.hire_date\n",
    "\n",
    "    def __eq__(self, other):\n",
    "        return self.hire_date == other.hire_date\n",
    "\n",
    "\n",
    "e1 = Employee(\"John Doe\", \"123-45-6789\", date(2020, 5, 24))\n",
    "e2 = Employee(\"Jane Smith\", \"987-65-4321\", date(2019, 3, 15))\n",
    "e3 = Employee(\"Alice Brown\", \"567-89-0123\", date(2021, 7, 30))\n",
    "\n",
    "employees = [e1, e2, e3]\n",
    "\n",
    "print(\"Before sorting:\")\n",
    "for e in employees:\n",
    "    print(e)\n",
    "\n",
    "employees.sort()\n",
    "\n",
    "print(\"\\nAfter sorting by hire date:\")\n",
    "for e in employees:\n",
    "    print(e)"
   ]
  },
  {
   "cell_type": "markdown",
   "metadata": {},
   "source": [
    "## Exercise 2: UnsortedPriorityQueue\n",
    "\n",
    "Using the *Comparator* implementation from Exercise 1, create an unsorted priority queue. Add several employee objects, list all entries, print the key of the first entry, and print the entry with the minimal value.\n",
    "\n",
    "All this code should be in the main method of the *UnsortedPriorityQueue.java* class."
   ]
  },
  {
   "cell_type": "code",
   "execution_count": 5,
   "metadata": {},
   "outputs": [
    {
     "name": "stdout",
     "output_type": "stream",
     "text": [
      "All entries in the priority queue:\n",
      "(2020-05-24,Employee(John Doe, 123-45-6789, 2020-05-24))\n",
      "(2019-03-15,Employee(Jane Smith, 987-65-4321, 2019-03-15))\n",
      "(2021-07-30,Employee(Alice Brown, 567-89-0123, 2021-07-30))\n",
      "\n",
      "The key of the first entry: 2020-05-24\n",
      "The entry with the minimal value: (datetime.date(2019, 3, 15), Employee(Jane Smith, 987-65-4321, 2019-03-15))\n"
     ]
    }
   ],
   "source": [
    "from unsorted_priority_queue import UnsortedPriorityQueue\n",
    "\n",
    "\n",
    "e1 = Employee(\"John Doe\", \"123-45-6789\", date(2020, 5, 24))\n",
    "e2 = Employee(\"Jane Smith\", \"987-65-4321\", date(2019, 3, 15))\n",
    "e3 = Employee(\"Alice Brown\", \"567-89-0123\", date(2021, 7, 30))\n",
    "\n",
    "pq = UnsortedPriorityQueue()\n",
    "pq.add(e1.hire_date, e1)\n",
    "pq.add(e2.hire_date, e2)\n",
    "pq.add(e3.hire_date, e3)\n",
    "\n",
    "print(\"All entries in the priority queue:\")\n",
    "for item in pq._data:\n",
    "    print(item)\n",
    "\n",
    "print(\"\\nThe key of the first entry:\", pq._data.first().element()._key)\n",
    "print(\"The entry with the minimal value:\", pq.min())"
   ]
  },
  {
   "cell_type": "markdown",
   "metadata": {},
   "source": [
    "## Exercise 3: SortedPriorityQueue\n",
    "\n",
    "Using the *Comparator* implementation from Exercise 1, create a sorted priority queue. Add several employee objects, list all entries, print the key of the first entry, and print the entry with the minimal value.\n",
    "\n",
    "All this code should be in the main method of the *SortedPriorityQueue.java* class."
   ]
  },
  {
   "cell_type": "code",
   "execution_count": 6,
   "metadata": {},
   "outputs": [
    {
     "name": "stdout",
     "output_type": "stream",
     "text": [
      "All entries in the priority queue:\n",
      "(2019-03-15,Employee(Jane Smith, 987-65-4321, 2019-03-15))\n",
      "(2020-05-24,Employee(John Doe, 123-45-6789, 2020-05-24))\n",
      "(2021-07-30,Employee(Alice Brown, 567-89-0123, 2021-07-30))\n",
      "\n",
      "The key of the first entry: 2019-03-15\n",
      "The entry with the minimal value: (datetime.date(2019, 3, 15), Employee(Jane Smith, 987-65-4321, 2019-03-15))\n"
     ]
    }
   ],
   "source": [
    "from sorted_priority_queue import SortedPriorityQueue\n",
    "\n",
    "\n",
    "e1 = Employee(\"John Doe\", \"123-45-6789\", date(2020, 5, 24))\n",
    "e2 = Employee(\"Jane Smith\", \"987-65-4321\", date(2019, 3, 15))\n",
    "e3 = Employee(\"Alice Brown\", \"567-89-0123\", date(2021, 7, 30))\n",
    "\n",
    "pq = SortedPriorityQueue()\n",
    "pq.add(e1.hire_date, e1)\n",
    "pq.add(e2.hire_date, e2)\n",
    "pq.add(e3.hire_date, e3)\n",
    "\n",
    "print(\"All entries in the priority queue:\")\n",
    "for item in pq._data:\n",
    "    print(item)\n",
    "\n",
    "print(\"\\nThe key of the first entry:\", pq._data.first().element()._key)\n",
    "print(\"The entry with the minimal value:\", pq.min())"
   ]
  },
  {
   "cell_type": "markdown",
   "metadata": {},
   "source": [
    "## Exercise 4: Heaps, Bottom-Up Heap Construction\n",
    "\n",
    "Construct a heap for the following list:\n",
    "\n",
    "| 23 | 34 | 28 | 51 | 32 | 17 | 25 |\n",
    "|----|----|----|----|----|----|----|\n",
    "\n",
    "In this exercise, insert the keys in the given order using breadth-first and then fix it.\n",
    "\n",
    "Draw all the steps as illustrated in the video example."
   ]
  },
  {
   "cell_type": "code",
   "execution_count": 7,
   "metadata": {},
   "outputs": [
    {
     "name": "stdout",
     "output_type": "stream",
     "text": [
      "After inserting 23: [(23,Value 1)]\n",
      "After inserting 34: [(23,Value 1), (34,Value 2)]\n",
      "After inserting 28: [(23,Value 1), (34,Value 2), (28,Value 3)]\n",
      "After inserting 51: [(23,Value 1), (34,Value 2), (28,Value 3), (51,Value 4)]\n",
      "After inserting 32: [(23,Value 1), (32,Value 5), (28,Value 3), (51,Value 4), (34,Value 2)]\n",
      "After inserting 17: [(17,Value 6), (32,Value 5), (23,Value 1), (51,Value 4), (34,Value 2), (28,Value 3)]\n",
      "After inserting 25: [(17,Value 6), (32,Value 5), (23,Value 1), (51,Value 4), (34,Value 2), (28,Value 3), (25,Value 7)]\n",
      "Final Heap: [(17,Value 6), (32,Value 5), (23,Value 1), (51,Value 4), (34,Value 2), (28,Value 3), (25,Value 7)]\n"
     ]
    }
   ],
   "source": [
    "from heap_priority_queue import HeapPriorityQueue\n",
    "\n",
    "\n",
    "heap = HeapPriorityQueue()\n",
    "elements = [23, 34, 28, 51, 32, 17, 25]\n",
    "for i, element in enumerate(elements):\n",
    "    heap.add(element, f\"Value {i + 1}\")\n",
    "    print(f\"After inserting {element}: {heap._data}\")\n",
    "print(\"Final Heap:\", heap._data)"
   ]
  },
  {
   "cell_type": "markdown",
   "metadata": {},
   "source": [
    "## Exercise 5: Heap-Sort\n",
    "\n",
    "Perform the heap-sort algorithm on the heap from Exercise 4 and print the results. To do this, write the code in the main method of the *HeapPriorityQueue.java* class. Instantiate a `HeapPriorityQueue` object, populate the heap with keys from Exercise 4, then write a loop that uses the `removeMin` method to return the sorted keys."
   ]
  },
  {
   "cell_type": "code",
   "execution_count": 8,
   "metadata": {},
   "outputs": [
    {
     "name": "stdout",
     "output_type": "stream",
     "text": [
      "Sorted keys: [17, 23, 25, 28, 32, 34, 51]\n"
     ]
    }
   ],
   "source": [
    "sorted_keys = []\n",
    "while not heap.is_empty():\n",
    "    sorted_keys.append(heap.remove_min()[0])\n",
    "\n",
    "print(\"Sorted keys:\", sorted_keys)"
   ]
  }
 ],
 "metadata": {
  "kernelspec": {
   "display_name": "Python 3",
   "language": "python",
   "name": "python3"
  },
  "language_info": {
   "codemirror_mode": {
    "name": "ipython",
    "version": 3
   },
   "file_extension": ".py",
   "mimetype": "text/x-python",
   "name": "python",
   "nbconvert_exporter": "python",
   "pygments_lexer": "ipython3",
   "version": "3.12.1"
  }
 },
 "nbformat": 4,
 "nbformat_minor": 2
}
